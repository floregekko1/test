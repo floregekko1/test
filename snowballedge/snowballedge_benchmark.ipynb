{
 "cells": [
  {
   "cell_type": "markdown",
   "metadata": {},
   "source": [
    "            \n",
    "<html>\n",
    "<body>\n",
    "<h1 style=\"font-family:verdana;\">BENCHMARK SUR LE SNOWBALLEDGE</h1>\n",
    "\n",
    "\n",
    "</body>\n",
    "</html>"
   ]
  },
  {
   "cell_type": "code",
   "execution_count": 1,
   "metadata": {},
   "outputs": [],
   "source": [
    "import numpy as np               \n",
    "import matplotlib.pyplot as plt\n",
    "import pandas as pd         \n",
    "from pyspark import SparkContext as sc                      \n",
    "import csv            \n",
    "import time                                                            \n",
    "import bitmath  \n",
    "from datetime import datetime            \n",
    "import seaborn as sns              \n",
    "import statsmodels.api as sm              \n",
    "from sklearn import linear_model       \n",
    "import math                     \n",
    "% matplotlib inline         \n",
    "plt.style.use('ggplot')                                                     "
   ]
  },
  {
   "cell_type": "code",
   "execution_count": 2,
   "metadata": {},
   "outputs": [],
   "source": [
    "df=pd.read_csv('/home/floranana/Documents/snowballedge/snowballedge.csv')         \n",
    "df2=pd.read_csv('/home/floranana/Documents/snowballedge/fichier_video.csv')\n",
    "df3=pd.read_csv('/home/floranana/Documents/snowballedge/file_interface.csv')     \n",
    "                                                         \n",
    "                          "
   ]
  },
  {
   "cell_type": "code",
   "execution_count": 3,
   "metadata": {},
   "outputs": [
    {
     "data": {
      "text/html": [
       "<div>\n",
       "<table border=\"1\" class=\"dataframe\">\n",
       "  <thead>\n",
       "    <tr style=\"text-align: right;\">\n",
       "      <th></th>\n",
       "      <th>TAILLE</th>\n",
       "      <th>TEMPS</th>\n",
       "      <th>VITESSE_GiB_PAR_SECONDES</th>\n",
       "      <th>SECONDES</th>\n",
       "      <th>DEBIT_EN_MiB_PAR_SECONDE</th>\n",
       "      <th>VARIANCE</th>\n",
       "      <th>ECART-TYPE</th>\n",
       "    </tr>\n",
       "  </thead>\n",
       "  <tbody>\n",
       "    <tr>\n",
       "      <th>0</th>\n",
       "      <td>148.0</td>\n",
       "      <td>00:37:17</td>\n",
       "      <td>NaN</td>\n",
       "      <td>NaN</td>\n",
       "      <td>NaN</td>\n",
       "      <td>NaN</td>\n",
       "      <td>NaN</td>\n",
       "    </tr>\n",
       "    <tr>\n",
       "      <th>1</th>\n",
       "      <td>148.0</td>\n",
       "      <td>00:37:14</td>\n",
       "      <td>NaN</td>\n",
       "      <td>NaN</td>\n",
       "      <td>NaN</td>\n",
       "      <td>NaN</td>\n",
       "      <td>NaN</td>\n",
       "    </tr>\n",
       "    <tr>\n",
       "      <th>2</th>\n",
       "      <td>148.0</td>\n",
       "      <td>00:36:48</td>\n",
       "      <td>NaN</td>\n",
       "      <td>NaN</td>\n",
       "      <td>NaN</td>\n",
       "      <td>NaN</td>\n",
       "      <td>NaN</td>\n",
       "    </tr>\n",
       "    <tr>\n",
       "      <th>3</th>\n",
       "      <td>148.0</td>\n",
       "      <td>00:36:42</td>\n",
       "      <td>NaN</td>\n",
       "      <td>NaN</td>\n",
       "      <td>NaN</td>\n",
       "      <td>NaN</td>\n",
       "      <td>NaN</td>\n",
       "    </tr>\n",
       "    <tr>\n",
       "      <th>4</th>\n",
       "      <td>148.0</td>\n",
       "      <td>00:36:33</td>\n",
       "      <td>NaN</td>\n",
       "      <td>NaN</td>\n",
       "      <td>NaN</td>\n",
       "      <td>NaN</td>\n",
       "      <td>NaN</td>\n",
       "    </tr>\n",
       "  </tbody>\n",
       "</table>\n",
       "</div>"
      ],
      "text/plain": [
       "   TAILLE     TEMPS  VITESSE_GiB_PAR_SECONDES  SECONDES  \\\n",
       "0   148.0  00:37:17                       NaN       NaN   \n",
       "1   148.0  00:37:14                       NaN       NaN   \n",
       "2   148.0  00:36:48                       NaN       NaN   \n",
       "3   148.0  00:36:42                       NaN       NaN   \n",
       "4   148.0  00:36:33                       NaN       NaN   \n",
       "\n",
       "   DEBIT_EN_MiB_PAR_SECONDE  VARIANCE  ECART-TYPE  \n",
       "0                       NaN       NaN         NaN  \n",
       "1                       NaN       NaN         NaN  \n",
       "2                       NaN       NaN         NaN  \n",
       "3                       NaN       NaN         NaN  \n",
       "4                       NaN       NaN         NaN  "
      ]
     },
     "execution_count": 3,
     "metadata": {},
     "output_type": "execute_result"
    }
   ],
   "source": [
    "df.head()       "
   ]
  },
  {
   "cell_type": "code",
   "execution_count": 4,
   "metadata": {},
   "outputs": [
    {
     "data": {
      "text/html": [
       "<div>\n",
       "<table border=\"1\" class=\"dataframe\">\n",
       "  <thead>\n",
       "    <tr style=\"text-align: right;\">\n",
       "      <th></th>\n",
       "      <th>TAILLE</th>\n",
       "      <th>TEMPS</th>\n",
       "      <th>SECONDES</th>\n",
       "      <th>VTGIB</th>\n",
       "      <th>VTMIB</th>\n",
       "    </tr>\n",
       "  </thead>\n",
       "  <tbody>\n",
       "    <tr>\n",
       "      <th>0</th>\n",
       "      <td>147.0</td>\n",
       "      <td>00:23:12</td>\n",
       "      <td>NaN</td>\n",
       "      <td>NaN</td>\n",
       "      <td>NaN</td>\n",
       "    </tr>\n",
       "    <tr>\n",
       "      <th>1</th>\n",
       "      <td>147.0</td>\n",
       "      <td>00:23:16</td>\n",
       "      <td>NaN</td>\n",
       "      <td>NaN</td>\n",
       "      <td>NaN</td>\n",
       "    </tr>\n",
       "    <tr>\n",
       "      <th>2</th>\n",
       "      <td>147.0</td>\n",
       "      <td>00:23:19</td>\n",
       "      <td>NaN</td>\n",
       "      <td>NaN</td>\n",
       "      <td>NaN</td>\n",
       "    </tr>\n",
       "    <tr>\n",
       "      <th>3</th>\n",
       "      <td>147.0</td>\n",
       "      <td>00:23:19</td>\n",
       "      <td>NaN</td>\n",
       "      <td>NaN</td>\n",
       "      <td>NaN</td>\n",
       "    </tr>\n",
       "    <tr>\n",
       "      <th>4</th>\n",
       "      <td>147.0</td>\n",
       "      <td>00:23:12</td>\n",
       "      <td>NaN</td>\n",
       "      <td>NaN</td>\n",
       "      <td>NaN</td>\n",
       "    </tr>\n",
       "  </tbody>\n",
       "</table>\n",
       "</div>"
      ],
      "text/plain": [
       "   TAILLE     TEMPS  SECONDES  VTGIB  VTMIB\n",
       "0   147.0  00:23:12       NaN    NaN    NaN\n",
       "1   147.0  00:23:16       NaN    NaN    NaN\n",
       "2   147.0  00:23:19       NaN    NaN    NaN\n",
       "3   147.0  00:23:19       NaN    NaN    NaN\n",
       "4   147.0  00:23:12       NaN    NaN    NaN"
      ]
     },
     "execution_count": 4,
     "metadata": {},
     "output_type": "execute_result"
    }
   ],
   "source": [
    "df2.head()     "
   ]
  },
  {
   "cell_type": "code",
   "execution_count": 5,
   "metadata": {},
   "outputs": [
    {
     "data": {
      "text/html": [
       "<div>\n",
       "<table border=\"1\" class=\"dataframe\">\n",
       "  <thead>\n",
       "    <tr style=\"text-align: right;\">\n",
       "      <th></th>\n",
       "      <th>TAILLE</th>\n",
       "      <th>TEMPS</th>\n",
       "      <th>SECONDES</th>\n",
       "      <th>VTGIB</th>\n",
       "      <th>VTMIB</th>\n",
       "    </tr>\n",
       "  </thead>\n",
       "  <tbody>\n",
       "    <tr>\n",
       "      <th>0</th>\n",
       "      <td>147.0</td>\n",
       "      <td>02:20:23</td>\n",
       "      <td>NaN</td>\n",
       "      <td>NaN</td>\n",
       "      <td>NaN</td>\n",
       "    </tr>\n",
       "    <tr>\n",
       "      <th>1</th>\n",
       "      <td>147.0</td>\n",
       "      <td>02:20:18</td>\n",
       "      <td>NaN</td>\n",
       "      <td>NaN</td>\n",
       "      <td>NaN</td>\n",
       "    </tr>\n",
       "    <tr>\n",
       "      <th>2</th>\n",
       "      <td>147.0</td>\n",
       "      <td>02:20:03</td>\n",
       "      <td>NaN</td>\n",
       "      <td>NaN</td>\n",
       "      <td>NaN</td>\n",
       "    </tr>\n",
       "    <tr>\n",
       "      <th>3</th>\n",
       "      <td>147.0</td>\n",
       "      <td>02:20:07</td>\n",
       "      <td>NaN</td>\n",
       "      <td>NaN</td>\n",
       "      <td>NaN</td>\n",
       "    </tr>\n",
       "    <tr>\n",
       "      <th>4</th>\n",
       "      <td>147.0</td>\n",
       "      <td>02:20:11</td>\n",
       "      <td>NaN</td>\n",
       "      <td>NaN</td>\n",
       "      <td>NaN</td>\n",
       "    </tr>\n",
       "  </tbody>\n",
       "</table>\n",
       "</div>"
      ],
      "text/plain": [
       "   TAILLE     TEMPS  SECONDES  VTGIB  VTMIB\n",
       "0   147.0  02:20:23       NaN    NaN    NaN\n",
       "1   147.0  02:20:18       NaN    NaN    NaN\n",
       "2   147.0  02:20:03       NaN    NaN    NaN\n",
       "3   147.0  02:20:07       NaN    NaN    NaN\n",
       "4   147.0  02:20:11       NaN    NaN    NaN"
      ]
     },
     "execution_count": 5,
     "metadata": {},
     "output_type": "execute_result"
    }
   ],
   "source": [
    "df3.head()     "
   ]
  },
  {
   "cell_type": "markdown",
   "metadata": {},
   "source": [
    "<html>\n",
    "<body>\n",
    "          \n",
    "<h2 style=\"font-family:verdana;\">CALCUL DE VITESSE MOYENNE EN GiB/s</h2>\n",
    "<p style=\"font-family:courier;\">On va calculer la vitesse chaque transfert et ensuite evaluer la vitesse moyenne de chaque categorie.</p>                       \n",
    " \n",
    "</body>    \n",
    "</html>\n"
   ]
  },
  {
   "cell_type": "code",
   "execution_count": 6,
   "metadata": {},
   "outputs": [
    {
     "data": {
      "text/plain": [
       "(57, 7)"
      ]
     },
     "execution_count": 6,
     "metadata": {},
     "output_type": "execute_result"
    }
   ],
   "source": [
    "       df.shape                                           "
   ]
  },
  {
   "cell_type": "code",
   "execution_count": 7,
   "metadata": {},
   "outputs": [
    {
     "data": {
      "text/plain": [
       "Index(['TAILLE', 'TEMPS', 'VITESSE_GiB_PAR_SECONDES', 'SECONDES',\n",
       "       'DEBIT_EN_MiB_PAR_SECONDE', 'VARIANCE', 'ECART-TYPE'],\n",
       "      dtype='object')"
      ]
     },
     "execution_count": 7,
     "metadata": {},
     "output_type": "execute_result"
    }
   ],
   "source": [
    "df.columns\n",
    "             \n",
    " "
   ]
  },
  {
   "cell_type": "markdown",
   "metadata": {},
   "source": [
    "       \n",
    "\n",
    "<h3>Je fais une conversion du TEMPS en SECONDES</h3>\n",
    "\n",
    "\n",
    " \n",
    "\n",
    "\n"
   ]
  },
  {
   "cell_type": "code",
   "execution_count": 8,
   "metadata": {},
   "outputs": [],
   "source": [
    "df = df [['TAILLE', 'TEMPS', 'VITESSE_GiB_PAR_SECONDES']] \n",
    "df['SECONDES']=df.apply( lambda r : (datetime.strptime(r.TEMPS,\"%H:%M:%S\") - \\\n",
    "                                         datetime(1900,1,1)).total_seconds(), axis=1)       "
   ]
  },
  {
   "cell_type": "code",
   "execution_count": 9,
   "metadata": {},
   "outputs": [],
   "source": [
    "df2 = df2 [['TAILLE', 'TEMPS', 'VTGIB']] \n",
    "df2['SECONDES']=df2.apply( lambda r : (datetime.strptime(r.TEMPS,\"%H:%M:%S\") - \\\n",
    "                                         datetime(1900,1,1)).total_seconds(), axis=1)       "
   ]
  },
  {
   "cell_type": "code",
   "execution_count": 10,
   "metadata": {},
   "outputs": [],
   "source": [
    "df3 = df3 [['TAILLE', 'TEMPS', 'VTGIB']] \n",
    "df3['SECONDES']=df3.apply( lambda r : (datetime.strptime(r.TEMPS,\"%H:%M:%S\") - \\\n",
    "                                         datetime(1900,1,1)).total_seconds(), axis=1)       "
   ]
  },
  {
   "cell_type": "markdown",
   "metadata": {},
   "source": [
    "<h3>CALCUL DE LA VITESSE EN GiB/s</h3>\n",
    "  "
   ]
  },
  {
   "cell_type": "code",
   "execution_count": 11,
   "metadata": {},
   "outputs": [],
   "source": [
    "def f(x,y):\n",
    "    return(x/y )             "
   ]
  },
  {
   "cell_type": "code",
   "execution_count": 12,
   "metadata": {},
   "outputs": [],
   "source": [
    "df['VITESSE_GiB_PAR_SECONDES']=f(df.TAILLE,df.SECONDES)  \n",
    "df2['VTGIB']=f(df2.TAILLE,df2.SECONDES)      \n",
    "df3['VTGIB']=f(df3.TAILLE,df3.SECONDES)  "
   ]
  },
  {
   "cell_type": "code",
   "execution_count": 13,
   "metadata": {},
   "outputs": [
    {
     "data": {
      "text/html": [
       "<div>\n",
       "<table border=\"1\" class=\"dataframe\">\n",
       "  <thead>\n",
       "    <tr style=\"text-align: right;\">\n",
       "      <th></th>\n",
       "      <th>TAILLE</th>\n",
       "      <th>TEMPS</th>\n",
       "      <th>VITESSE_GiB_PAR_SECONDES</th>\n",
       "      <th>SECONDES</th>\n",
       "    </tr>\n",
       "  </thead>\n",
       "  <tbody>\n",
       "    <tr>\n",
       "      <th>0</th>\n",
       "      <td>148.0</td>\n",
       "      <td>00:37:17</td>\n",
       "      <td>0.066160</td>\n",
       "      <td>2237.0</td>\n",
       "    </tr>\n",
       "    <tr>\n",
       "      <th>1</th>\n",
       "      <td>148.0</td>\n",
       "      <td>00:37:14</td>\n",
       "      <td>0.066249</td>\n",
       "      <td>2234.0</td>\n",
       "    </tr>\n",
       "    <tr>\n",
       "      <th>2</th>\n",
       "      <td>148.0</td>\n",
       "      <td>00:36:48</td>\n",
       "      <td>0.067029</td>\n",
       "      <td>2208.0</td>\n",
       "    </tr>\n",
       "    <tr>\n",
       "      <th>3</th>\n",
       "      <td>148.0</td>\n",
       "      <td>00:36:42</td>\n",
       "      <td>0.067212</td>\n",
       "      <td>2202.0</td>\n",
       "    </tr>\n",
       "    <tr>\n",
       "      <th>4</th>\n",
       "      <td>148.0</td>\n",
       "      <td>00:36:33</td>\n",
       "      <td>0.067487</td>\n",
       "      <td>2193.0</td>\n",
       "    </tr>\n",
       "  </tbody>\n",
       "</table>\n",
       "</div>"
      ],
      "text/plain": [
       "   TAILLE     TEMPS  VITESSE_GiB_PAR_SECONDES  SECONDES\n",
       "0   148.0  00:37:17                  0.066160    2237.0\n",
       "1   148.0  00:37:14                  0.066249    2234.0\n",
       "2   148.0  00:36:48                  0.067029    2208.0\n",
       "3   148.0  00:36:42                  0.067212    2202.0\n",
       "4   148.0  00:36:33                  0.067487    2193.0"
      ]
     },
     "execution_count": 13,
     "metadata": {},
     "output_type": "execute_result"
    }
   ],
   "source": [
    "df.head() "
   ]
  },
  {
   "cell_type": "code",
   "execution_count": 14,
   "metadata": {},
   "outputs": [],
   "source": [
    "def f(x):\n",
    "    return(x*1024)"
   ]
  },
  {
   "cell_type": "code",
   "execution_count": 15,
   "metadata": {},
   "outputs": [],
   "source": [
    "df['DEBIT_EN_MiB_PAR_SECONDE']=f(df['VITESSE_GiB_PAR_SECONDES']) \n",
    "df2['VTMIB']=f(df2['VTGIB']) \n",
    "df3['VTMIB']=f(df3['VTGIB'])  "
   ]
  },
  {
   "cell_type": "code",
   "execution_count": 16,
   "metadata": {},
   "outputs": [
    {
     "data": {
      "text/html": [
       "<div>\n",
       "<table border=\"1\" class=\"dataframe\">\n",
       "  <thead>\n",
       "    <tr style=\"text-align: right;\">\n",
       "      <th></th>\n",
       "      <th>TAILLE</th>\n",
       "      <th>TEMPS</th>\n",
       "      <th>VITESSE_GiB_PAR_SECONDES</th>\n",
       "      <th>SECONDES</th>\n",
       "      <th>DEBIT_EN_MiB_PAR_SECONDE</th>\n",
       "    </tr>\n",
       "  </thead>\n",
       "  <tbody>\n",
       "    <tr>\n",
       "      <th>0</th>\n",
       "      <td>148.0</td>\n",
       "      <td>00:37:17</td>\n",
       "      <td>0.066160</td>\n",
       "      <td>2237.0</td>\n",
       "      <td>67.747877</td>\n",
       "    </tr>\n",
       "    <tr>\n",
       "      <th>1</th>\n",
       "      <td>148.0</td>\n",
       "      <td>00:37:14</td>\n",
       "      <td>0.066249</td>\n",
       "      <td>2234.0</td>\n",
       "      <td>67.838854</td>\n",
       "    </tr>\n",
       "    <tr>\n",
       "      <th>2</th>\n",
       "      <td>148.0</td>\n",
       "      <td>00:36:48</td>\n",
       "      <td>0.067029</td>\n",
       "      <td>2208.0</td>\n",
       "      <td>68.637681</td>\n",
       "    </tr>\n",
       "    <tr>\n",
       "      <th>3</th>\n",
       "      <td>148.0</td>\n",
       "      <td>00:36:42</td>\n",
       "      <td>0.067212</td>\n",
       "      <td>2202.0</td>\n",
       "      <td>68.824705</td>\n",
       "    </tr>\n",
       "    <tr>\n",
       "      <th>4</th>\n",
       "      <td>148.0</td>\n",
       "      <td>00:36:33</td>\n",
       "      <td>0.067487</td>\n",
       "      <td>2193.0</td>\n",
       "      <td>69.107159</td>\n",
       "    </tr>\n",
       "  </tbody>\n",
       "</table>\n",
       "</div>"
      ],
      "text/plain": [
       "   TAILLE     TEMPS  VITESSE_GiB_PAR_SECONDES  SECONDES  \\\n",
       "0   148.0  00:37:17                  0.066160    2237.0   \n",
       "1   148.0  00:37:14                  0.066249    2234.0   \n",
       "2   148.0  00:36:48                  0.067029    2208.0   \n",
       "3   148.0  00:36:42                  0.067212    2202.0   \n",
       "4   148.0  00:36:33                  0.067487    2193.0   \n",
       "\n",
       "   DEBIT_EN_MiB_PAR_SECONDE  \n",
       "0                 67.747877  \n",
       "1                 67.838854  \n",
       "2                 68.637681  \n",
       "3                 68.824705  \n",
       "4                 69.107159  "
      ]
     },
     "execution_count": 16,
     "metadata": {},
     "output_type": "execute_result"
    }
   ],
   "source": [
    "df.head() "
   ]
  },
  {
   "cell_type": "code",
   "execution_count": 17,
   "metadata": {},
   "outputs": [
    {
     "data": {
      "text/html": [
       "<div>\n",
       "<table border=\"1\" class=\"dataframe\">\n",
       "  <thead>\n",
       "    <tr style=\"text-align: right;\">\n",
       "      <th></th>\n",
       "      <th>TAILLE</th>\n",
       "      <th>TEMPS</th>\n",
       "      <th>VTGIB</th>\n",
       "      <th>SECONDES</th>\n",
       "      <th>VTMIB</th>\n",
       "    </tr>\n",
       "  </thead>\n",
       "  <tbody>\n",
       "    <tr>\n",
       "      <th>0</th>\n",
       "      <td>147.0</td>\n",
       "      <td>00:23:12</td>\n",
       "      <td>0.105603</td>\n",
       "      <td>1392.0</td>\n",
       "      <td>108.137931</td>\n",
       "    </tr>\n",
       "    <tr>\n",
       "      <th>1</th>\n",
       "      <td>147.0</td>\n",
       "      <td>00:23:16</td>\n",
       "      <td>0.105301</td>\n",
       "      <td>1396.0</td>\n",
       "      <td>107.828080</td>\n",
       "    </tr>\n",
       "    <tr>\n",
       "      <th>2</th>\n",
       "      <td>147.0</td>\n",
       "      <td>00:23:19</td>\n",
       "      <td>0.105075</td>\n",
       "      <td>1399.0</td>\n",
       "      <td>107.596855</td>\n",
       "    </tr>\n",
       "    <tr>\n",
       "      <th>3</th>\n",
       "      <td>147.0</td>\n",
       "      <td>00:23:19</td>\n",
       "      <td>0.105075</td>\n",
       "      <td>1399.0</td>\n",
       "      <td>107.596855</td>\n",
       "    </tr>\n",
       "    <tr>\n",
       "      <th>4</th>\n",
       "      <td>147.0</td>\n",
       "      <td>00:23:12</td>\n",
       "      <td>0.105603</td>\n",
       "      <td>1392.0</td>\n",
       "      <td>108.137931</td>\n",
       "    </tr>\n",
       "  </tbody>\n",
       "</table>\n",
       "</div>"
      ],
      "text/plain": [
       "   TAILLE     TEMPS     VTGIB  SECONDES       VTMIB\n",
       "0   147.0  00:23:12  0.105603    1392.0  108.137931\n",
       "1   147.0  00:23:16  0.105301    1396.0  107.828080\n",
       "2   147.0  00:23:19  0.105075    1399.0  107.596855\n",
       "3   147.0  00:23:19  0.105075    1399.0  107.596855\n",
       "4   147.0  00:23:12  0.105603    1392.0  108.137931"
      ]
     },
     "execution_count": 17,
     "metadata": {},
     "output_type": "execute_result"
    }
   ],
   "source": [
    "df2.head() "
   ]
  },
  {
   "cell_type": "markdown",
   "metadata": {},
   "source": [
    "<h3>CALCUL DE LA VITESSE PAR SERIE    </h3>\n",
    "                  "
   ]
  },
  {
   "cell_type": "code",
   "execution_count": 18,
   "metadata": {},
   "outputs": [
    {
     "data": {
      "text/plain": [
       "TAILLE\n",
       "5.0      108.002432\n",
       "10.0     105.880778\n",
       "25.0      73.288774\n",
       "50.0      59.611454\n",
       "100.0     73.615192\n",
       "148.0     69.464546\n",
       "Name: DEBIT_EN_MiB_PAR_SECONDE, dtype: float64"
      ]
     },
     "execution_count": 18,
     "metadata": {},
     "output_type": "execute_result"
    }
   ],
   "source": [
    "df.groupby('TAILLE')['DEBIT_EN_MiB_PAR_SECONDE'].mean()          "
   ]
  },
  {
   "cell_type": "code",
   "execution_count": 19,
   "metadata": {},
   "outputs": [],
   "source": [
    "def moyenne(tableau):\n",
    "    return sum(tableau, 0.0) / len(tableau)  "
   ]
  },
  {
   "cell_type": "code",
   "execution_count": 20,
   "metadata": {},
   "outputs": [
    {
     "data": {
      "text/html": [
       "<div>\n",
       "<table border=\"1\" class=\"dataframe\">\n",
       "  <thead>\n",
       "    <tr style=\"text-align: right;\">\n",
       "      <th></th>\n",
       "      <th>TAILLE</th>\n",
       "      <th>TEMPS</th>\n",
       "      <th>VITESSE_GiB_PAR_SECONDES</th>\n",
       "      <th>SECONDES</th>\n",
       "      <th>DEBIT_EN_MiB_PAR_SECONDE</th>\n",
       "      <th>MOYENNE</th>\n",
       "    </tr>\n",
       "  </thead>\n",
       "  <tbody>\n",
       "    <tr>\n",
       "      <th>0</th>\n",
       "      <td>148.0</td>\n",
       "      <td>00:37:17</td>\n",
       "      <td>0.066160</td>\n",
       "      <td>2237.0</td>\n",
       "      <td>67.747877</td>\n",
       "      <td>80.25657</td>\n",
       "    </tr>\n",
       "    <tr>\n",
       "      <th>1</th>\n",
       "      <td>148.0</td>\n",
       "      <td>00:37:14</td>\n",
       "      <td>0.066249</td>\n",
       "      <td>2234.0</td>\n",
       "      <td>67.838854</td>\n",
       "      <td>80.25657</td>\n",
       "    </tr>\n",
       "    <tr>\n",
       "      <th>2</th>\n",
       "      <td>148.0</td>\n",
       "      <td>00:36:48</td>\n",
       "      <td>0.067029</td>\n",
       "      <td>2208.0</td>\n",
       "      <td>68.637681</td>\n",
       "      <td>80.25657</td>\n",
       "    </tr>\n",
       "    <tr>\n",
       "      <th>3</th>\n",
       "      <td>148.0</td>\n",
       "      <td>00:36:42</td>\n",
       "      <td>0.067212</td>\n",
       "      <td>2202.0</td>\n",
       "      <td>68.824705</td>\n",
       "      <td>80.25657</td>\n",
       "    </tr>\n",
       "    <tr>\n",
       "      <th>4</th>\n",
       "      <td>148.0</td>\n",
       "      <td>00:36:33</td>\n",
       "      <td>0.067487</td>\n",
       "      <td>2193.0</td>\n",
       "      <td>69.107159</td>\n",
       "      <td>80.25657</td>\n",
       "    </tr>\n",
       "  </tbody>\n",
       "</table>\n",
       "</div>"
      ],
      "text/plain": [
       "   TAILLE     TEMPS  VITESSE_GiB_PAR_SECONDES  SECONDES  \\\n",
       "0   148.0  00:37:17                  0.066160    2237.0   \n",
       "1   148.0  00:37:14                  0.066249    2234.0   \n",
       "2   148.0  00:36:48                  0.067029    2208.0   \n",
       "3   148.0  00:36:42                  0.067212    2202.0   \n",
       "4   148.0  00:36:33                  0.067487    2193.0   \n",
       "\n",
       "   DEBIT_EN_MiB_PAR_SECONDE   MOYENNE  \n",
       "0                 67.747877  80.25657  \n",
       "1                 67.838854  80.25657  \n",
       "2                 68.637681  80.25657  \n",
       "3                 68.824705  80.25657  \n",
       "4                 69.107159  80.25657  "
      ]
     },
     "execution_count": 20,
     "metadata": {},
     "output_type": "execute_result"
    }
   ],
   "source": [
    "df['MOYENNE']=moyenne(df['DEBIT_EN_MiB_PAR_SECONDE']) \n",
    "df.head() "
   ]
  },
  {
   "cell_type": "code",
   "execution_count": 21,
   "metadata": {},
   "outputs": [],
   "source": [
    "def variance(tableau):\n",
    "    m=moyenne(tableau)\n",
    "    return moyenne([(x-m)**2 for x in tableau]) \n",
    "               "
   ]
  },
  {
   "cell_type": "code",
   "execution_count": 22,
   "metadata": {},
   "outputs": [],
   "source": [
    "df['VARIANCE']=variance(df['DEBIT_EN_MiB_PAR_SECONDE']) \n",
    " "
   ]
  },
  {
   "cell_type": "code",
   "execution_count": 23,
   "metadata": {},
   "outputs": [],
   "source": [
    "def ecartype(tableau):\n",
    "    return variance(tableau)**0.5     \n"
   ]
  },
  {
   "cell_type": "code",
   "execution_count": 24,
   "metadata": {},
   "outputs": [
    {
     "data": {
      "text/html": [
       "<div>\n",
       "<table border=\"1\" class=\"dataframe\">\n",
       "  <thead>\n",
       "    <tr style=\"text-align: right;\">\n",
       "      <th></th>\n",
       "      <th>TAILLE</th>\n",
       "      <th>TEMPS</th>\n",
       "      <th>VITESSE_GiB_PAR_SECONDES</th>\n",
       "      <th>SECONDES</th>\n",
       "      <th>DEBIT_EN_MiB_PAR_SECONDE</th>\n",
       "      <th>MOYENNE</th>\n",
       "      <th>VARIANCE</th>\n",
       "      <th>ECART-TYPE</th>\n",
       "    </tr>\n",
       "  </thead>\n",
       "  <tbody>\n",
       "    <tr>\n",
       "      <th>0</th>\n",
       "      <td>148.0</td>\n",
       "      <td>00:37:17</td>\n",
       "      <td>0.066160</td>\n",
       "      <td>2237.0</td>\n",
       "      <td>67.747877</td>\n",
       "      <td>80.25657</td>\n",
       "      <td>367.66838</td>\n",
       "      <td>19.174681</td>\n",
       "    </tr>\n",
       "    <tr>\n",
       "      <th>1</th>\n",
       "      <td>148.0</td>\n",
       "      <td>00:37:14</td>\n",
       "      <td>0.066249</td>\n",
       "      <td>2234.0</td>\n",
       "      <td>67.838854</td>\n",
       "      <td>80.25657</td>\n",
       "      <td>367.66838</td>\n",
       "      <td>19.174681</td>\n",
       "    </tr>\n",
       "    <tr>\n",
       "      <th>2</th>\n",
       "      <td>148.0</td>\n",
       "      <td>00:36:48</td>\n",
       "      <td>0.067029</td>\n",
       "      <td>2208.0</td>\n",
       "      <td>68.637681</td>\n",
       "      <td>80.25657</td>\n",
       "      <td>367.66838</td>\n",
       "      <td>19.174681</td>\n",
       "    </tr>\n",
       "    <tr>\n",
       "      <th>3</th>\n",
       "      <td>148.0</td>\n",
       "      <td>00:36:42</td>\n",
       "      <td>0.067212</td>\n",
       "      <td>2202.0</td>\n",
       "      <td>68.824705</td>\n",
       "      <td>80.25657</td>\n",
       "      <td>367.66838</td>\n",
       "      <td>19.174681</td>\n",
       "    </tr>\n",
       "    <tr>\n",
       "      <th>4</th>\n",
       "      <td>148.0</td>\n",
       "      <td>00:36:33</td>\n",
       "      <td>0.067487</td>\n",
       "      <td>2193.0</td>\n",
       "      <td>69.107159</td>\n",
       "      <td>80.25657</td>\n",
       "      <td>367.66838</td>\n",
       "      <td>19.174681</td>\n",
       "    </tr>\n",
       "  </tbody>\n",
       "</table>\n",
       "</div>"
      ],
      "text/plain": [
       "   TAILLE     TEMPS  VITESSE_GiB_PAR_SECONDES  SECONDES  \\\n",
       "0   148.0  00:37:17                  0.066160    2237.0   \n",
       "1   148.0  00:37:14                  0.066249    2234.0   \n",
       "2   148.0  00:36:48                  0.067029    2208.0   \n",
       "3   148.0  00:36:42                  0.067212    2202.0   \n",
       "4   148.0  00:36:33                  0.067487    2193.0   \n",
       "\n",
       "   DEBIT_EN_MiB_PAR_SECONDE   MOYENNE   VARIANCE  ECART-TYPE  \n",
       "0                 67.747877  80.25657  367.66838   19.174681  \n",
       "1                 67.838854  80.25657  367.66838   19.174681  \n",
       "2                 68.637681  80.25657  367.66838   19.174681  \n",
       "3                 68.824705  80.25657  367.66838   19.174681  \n",
       "4                 69.107159  80.25657  367.66838   19.174681  "
      ]
     },
     "execution_count": 24,
     "metadata": {},
     "output_type": "execute_result"
    }
   ],
   "source": [
    "df['ECART-TYPE']=ecartype(df['DEBIT_EN_MiB_PAR_SECONDE'])     \n",
    "df.head()     "
   ]
  },
  {
   "cell_type": "code",
   "execution_count": 25,
   "metadata": {},
   "outputs": [
    {
     "data": {
      "text/plain": [
       "TAILLE\n",
       "5.0       73.552581\n",
       "10.0      86.537145\n",
       "15.0      95.513351\n",
       "20.0      97.671784\n",
       "25.0     101.400861\n",
       "30.0     102.498547\n",
       "35.0     102.924952\n",
       "40.0     105.083102\n",
       "45.0     104.896110\n",
       "55.0     102.590087\n",
       "60.0     104.888965\n",
       "75.0     105.845341\n",
       "80.0     106.245375\n",
       "91.0     108.606385\n",
       "116.0    106.420522\n",
       "131.0    107.521957\n",
       "147.0    107.967701\n",
       "Name: VTMIB, dtype: float64"
      ]
     },
     "execution_count": 25,
     "metadata": {},
     "output_type": "execute_result"
    }
   ],
   "source": [
    "df2.groupby('TAILLE')['VTMIB'].mean() "
   ]
  },
  {
   "cell_type": "code",
   "execution_count": 26,
   "metadata": {},
   "outputs": [
    {
     "data": {
      "text/plain": [
       "TAILLE\n",
       "116.0     6.113114\n",
       "131.0    14.484502\n",
       "147.0    17.897046\n",
       "Name: VTMIB, dtype: float64"
      ]
     },
     "execution_count": 26,
     "metadata": {},
     "output_type": "execute_result"
    }
   ],
   "source": [
    "df3.groupby('TAILLE')['VTMIB'].mean()   "
   ]
  },
  {
   "cell_type": "code",
   "execution_count": 27,
   "metadata": {},
   "outputs": [
    {
     "data": {
      "text/plain": [
       "TAILLE\n",
       "5.0        47.428571\n",
       "10.0       98.800000\n",
       "25.0      355.000000\n",
       "50.0      862.500000\n",
       "100.0    1392.700000\n",
       "148.0    2182.700000\n",
       "Name: SECONDES, dtype: float64"
      ]
     },
     "execution_count": 27,
     "metadata": {},
     "output_type": "execute_result"
    }
   ],
   "source": [
    "df.groupby('TAILLE')['SECONDES'].mean()  "
   ]
  },
  {
   "cell_type": "code",
   "execution_count": 28,
   "metadata": {},
   "outputs": [],
   "source": [
    "graphe=df.groupby('TAILLE')['DEBIT_EN_MiB_PAR_SECONDE'].mean() \n",
    "graphe1=df2.groupby('TAILLE')['VTMIB'].mean()  \n"
   ]
  },
  {
   "cell_type": "code",
   "execution_count": 29,
   "metadata": {},
   "outputs": [
    {
     "data": {
      "text/plain": [
       "<matplotlib.text.Text at 0x7f873c72f438>"
      ]
     },
     "execution_count": 29,
     "metadata": {},
     "output_type": "execute_result"
    },
    {
     "data": {
      "image/png": "[encoded data removed]",
      "text/plain": [
       "<matplotlib.figure.Figure at 0x7f873c759668>"
      ]
     },
     "metadata": {},
     "output_type": "display_data"
    }
   ],
   "source": [
    "graphe.plot(color='green')\n",
    "graphe1.  plot(color='blue')\n",
    "plt.ylabel('Vitesse')            \n"
   ]
  },
  {
   "cell_type": "markdown",
   "metadata": {},
   "source": [
    "   <h2>PREDICTION</h2>      "
   ]
  },
  {
   "cell_type": "markdown",
   "metadata": {},
   "source": [
    "<h4>Courbe de la taille du fichier transféré en fonction du temps en secondes</h4>       "
   ]
  },
  {
   "cell_type": "code",
   "execution_count": 30,
   "metadata": {},
   "outputs": [],
   "source": [
    "graphe1=df.groupby('TAILLE')['SECONDES'].mean()                 "
   ]
  },
  {
   "cell_type": "markdown",
   "metadata": {},
   "source": [
    "<p>on affiche le nuage de point donc je dispose</p>                 "
   ]
  },
  {
   "cell_type": "code",
   "execution_count": 31,
   "metadata": {},
   "outputs": [
    {
     "data": {
      "image/png": "[encoded data removed]",
      "text/plain": [
       "<matplotlib.figure.Figure at 0x7f873c6023c8>"
      ]
     },
     "metadata": {},
     "output_type": "display_data"
    }
   ],
   "source": [
    "\n",
    "plt.plot(df['TAILLE'], df['SECONDES'], 'ro', markersize=4, color='green',label='fichier vide' ) \n",
    "plt.plot(df2['TAILLE'], df2['SECONDES'], 'ro', markersize=4, color='blue', label='fichier vidéo x*1.6G')  \n",
    "#plt.plot(df3['TAILLE'], df3['SECONDES'], 'ro', markersize=4, color='violet',ax=axes[0,1]) \n",
    "plt.title('Taille en fonction du temps de migration') \n",
    "plt.xlabel('TAILLE')   \n",
    "plt.ylabel('TEMPS en Secondes ')         \n",
    "plt.show()           "
   ]
  },
  {
   "cell_type": "markdown",
   "metadata": {},
   "source": [
    "<h3>REGRESSION à une VARIABLE avec seaborn  </h3>       "
   ]
  },
  {
   "cell_type": "code",
   "execution_count": 32,
   "metadata": {},
   "outputs": [
    {
     "data": {
      "image/png": "[encoded data removed]",
      "text/plain": [
       "<matplotlib.figure.Figure at 0x7f873c5386d8>"
      ]
     },
     "metadata": {},
     "output_type": "display_data"
    }
   ],
   "source": [
    "fig, axs = plt.subplots(ncols=2)\n",
    "sns.set(style=\"white\", color_codes=True)\n",
    "sns.regplot(x=\"TAILLE\", y=\"SECONDES\", data= df,ax=axs[0] );\n",
    "sns.regplot(x=\"TAILLE\", y=\"SECONDES\", data= df2,ax=axs[1] );  \n"
   ]
  },
  {
   "cell_type": "markdown",
   "metadata": {},
   "source": [
    "<h3> Regression en utilisant scikit-learn\n",
    "\n",
    "</h3>"
   ]
  },
  {
   "cell_type": "markdown",
   "metadata": {},
   "source": [
    "<p> on parle de regression quand il s   agit de formaliser la relation moyenne qui existe entre la taille et le temps'</p>"
   ]
  },
  {
   "cell_type": "code",
   "execution_count": 46,
   "metadata": {},
   "outputs": [],
   "source": [
    "X = df2[[\"TAILLE\"]]\n",
    "y = df2  [\"SECONDES\"]       \n",
    "\n",
    "# On fit le modele \n",
    "model = linear_model.LinearRegression()       \n",
    "results = model.fit(X, y)"
   ]
  },
  {
   "cell_type": "code",
   "execution_count": 47,
   "metadata": {
    "scrolled": true
   },
   "outputs": [
    {
     "name": "stdout",
     "output_type": "stream",
     "text": [
      "21.7973567576 [ 9.35463769]\n"
     ]
    }
   ],
   "source": [
    "print(results.intercept_, results.coef_)"
   ]
  },
  {
   "cell_type": "markdown",
   "metadata": {},
   "source": [
    "<p>La meilleure approximation linéaire est donc y=a+bx avec : a=-4.13882848772  -b=14.70576916\n",
    "\n",
    "Mais en termes de présentation de résultats, c’est un peu limité… Pas de standard errors, pas de R^2 etc (du moins pas automatiquement)\n",
    "\n",
    "</p>                 "
   ]
  },
  {
   "cell_type": "markdown",
   "metadata": {},
   "source": [
    "<h2> Regression en utilisant statsmodels</h2>          "
   ]
  },
  {
   "cell_type": "code",
   "execution_count": 48,
   "metadata": {},
   "outputs": [
    {
     "name": "stdout",
     "output_type": "stream",
     "text": [
      "                            OLS Regression Results                            \n",
      "==============================================================================\n",
      "Dep. Variable:               SECONDES   R-squared:                       0.999\n",
      "Model:                            OLS   Adj. R-squared:                  0.999\n",
      "Method:                 Least Squares   F-statistic:                 3.201e+05\n",
      "Date:                Mon, 08 Jan 2018   Prob (F-statistic):          6.77e-279\n",
      "Time:                        23:29:35   Log-Likelihood:                -709.51\n",
      "No. Observations:                 170   AIC:                             1421.\n",
      "Df Residuals:                     169   BIC:                             1424.\n",
      "Df Model:                           1                                         \n",
      "Covariance Type:            nonrobust                                         \n",
      "==============================================================================\n",
      "                 coef    std err          t      P>|t|      [0.025      0.975]\n",
      "------------------------------------------------------------------------------\n",
      "TAILLE         9.6023      0.017    565.752      0.000       9.569       9.636\n",
      "==============================================================================\n",
      "Omnibus:                        5.934   Durbin-Watson:                   0.375\n",
      "Prob(Omnibus):                  0.051   Jarque-Bera (JB):                5.618\n",
      "Skew:                          -0.371   Prob(JB):                       0.0603\n",
      "Kurtosis:                       3.494   Cond. No.                         1.00\n",
      "==============================================================================\n",
      "\n",
      "Warnings:\n",
      "[1] Standard Errors assume that the covariance matrix of the errors is correctly specified.\n"
     ]
    }
   ],
   "source": [
    "model = sm.OLS(y, X)\n",
    "results = model.fit()\n",
    "# Avec  statsmodel, on a une sortie qui ressemble beaucoup à celle de R\n",
    "print(results.summary())"
   ]
  },
  {
   "cell_type": "markdown",
   "metadata": {},
   "source": [
    "<h5>Si vous regardez de plus près, vous observez que les coefficients des deux régressions sont proches mais pas égaux.----->                   \n",
    "\n",
    "Il faut faire attention avec statsmodels, il n’inclut pas de lui-même un intercept (\\beta_0) alors que scikit learn le fait.\n",
    "\n",
    "</h5>"
   ]
  },
  {
   "cell_type": "code",
   "execution_count": 50,
   "metadata": {},
   "outputs": [
    {
     "name": "stdout",
     "output_type": "stream",
     "text": [
      "                            OLS Regression Results                            \n",
      "==============================================================================\n",
      "Dep. Variable:               SECONDES   R-squared:                       0.999\n",
      "Model:                            OLS   Adj. R-squared:                  0.999\n",
      "Method:                 Least Squares   F-statistic:                 3.095e+05\n",
      "Date:                Mon, 08 Jan 2018   Prob (F-statistic):          2.98e-276\n",
      "Time:                        23:30:28   Log-Likelihood:                -616.92\n",
      "No. Observations:                 170   AIC:                             1238.\n",
      "Df Residuals:                     168   BIC:                             1244.\n",
      "Df Model:                           1                                         \n",
      "Covariance Type:            nonrobust                                         \n",
      "==============================================================================\n",
      "                 coef    std err          t      P>|t|      [0.025      0.975]\n",
      "------------------------------------------------------------------------------\n",
      "x1             9.3546      0.017    556.368      0.000       9.321       9.388\n",
      "const         21.7974      1.198     18.202      0.000      19.433      24.162\n",
      "==============================================================================\n",
      "Omnibus:                       63.209   Durbin-Watson:                   1.130\n",
      "Prob(Omnibus):                  0.000   Jarque-Bera (JB):              590.608\n",
      "Skew:                           1.041   Prob(JB):                    5.64e-129\n",
      "Kurtosis:                      11.891   Cond. No.                         121.\n",
      "==============================================================================\n",
      "\n",
      "Warnings:\n",
      "[1] Standard Errors assume that the covariance matrix of the errors is correctly specified.\n"
     ]
    }
   ],
   "source": [
    "X = df2[\"TAILLE\"]\n",
    "X = np.vander(X, 2) #ici on ajoute\n",
    "y = df2 [\"SECONDES\"]\n",
    "model = sm.OLS(y, X) \n",
    "results = model.fit()\n",
    "print(results.summary())"
   ]
  },
  {
   "cell_type": "markdown",
   "metadata": {},
   "source": [
    "<h2> ESTIMATION DU TEMPS NECESSAIRE POUR TRANFORMER 17TiB sachant que 1TiB =1024GiB</h2>"
   ]
  },
  {
   "cell_type": "code",
   "execution_count": 37,
   "metadata": {},
   "outputs": [],
   "source": [
    "def f(a):\n",
    "    a=a*1024\n",
    "            \n",
    "    return(a)     "
   ]
  },
  {
   "cell_type": "code",
   "execution_count": 38,
   "metadata": {},
   "outputs": [
    {
     "data": {
      "text/plain": [
       "17408"
      ]
     },
     "execution_count": 38,
     "metadata": {},
     "output_type": "execute_result"
    }
   ],
   "source": [
    "f(17)            "
   ]
  },
  {
   "cell_type": "markdown",
   "metadata": {},
   "source": [
    "<p>calcul du temps de migration</p> \n",
    "        "
   ]
  },
  {
   "cell_type": "code",
   "execution_count": 39,
   "metadata": {},
   "outputs": [],
   "source": [
    "def temps(taille):\n",
    "    seconde =14.70576916*taille -4.13882848772 \n",
    "    return(seconde ) "
   ]
  },
  {
   "cell_type": "code",
   "execution_count": 40,
   "metadata": {},
   "outputs": [
    {
     "data": {
      "text/plain": [
       "255993.89070879226"
      ]
     },
     "execution_count": 40,
     "metadata": {},
     "output_type": "execute_result"
    }
   ],
   "source": [
    "temps(17408)  "
   ]
  },
  {
   "cell_type": "code",
   "execution_count": 41,
   "metadata": {},
   "outputs": [],
   "source": [
    "heure,minute=0,0\n",
    " \n",
    "def decoupe(seconde):\n",
    "    heure = seconde /3600\n",
    "    seconde %= 3600\n",
    "    minute = seconde/60\n",
    "    seconde%=60\n",
    "    return (heure,minute,seconde)\n",
    " \n"
   ]
  },
  {
   "cell_type": "code",
   "execution_count": 42,
   "metadata": {},
   "outputs": [
    {
     "data": {
      "text/plain": [
       "(71.10941408577563, 6.564845146537603, 33.89070879225619)"
      ]
     },
     "execution_count": 42,
     "metadata": {},
     "output_type": "execute_result"
    }
   ],
   "source": [
    "decoupe(  255993.89070879226)"
   ]
  },
  {
   "cell_type": "code",
   "execution_count": 43,
   "metadata": {},
   "outputs": [],
   "source": [
    "  def converti(heure):\n",
    "        jour=heure/24    \n",
    "        return(jour)"
   ]
  },
  {
   "cell_type": "code",
   "execution_count": 44,
   "metadata": {},
   "outputs": [
    {
     "data": {
      "text/plain": [
       "2.9628922535739846"
      ]
     },
     "execution_count": 44,
     "metadata": {},
     "output_type": "execute_result"
    }
   ],
   "source": [
    "converti(71.10941408577563)          "
   ]
  },
  {
   "cell_type": "code",
   "execution_count": 45,
   "metadata": {},
   "outputs": [],
   "source": [
    "# soit environ 3jours et demi pour migrer 17 Tebibytes"
   ]
  },
  {
   "cell_type": "code",
   "execution_count": null,
   "metadata": {},
   "outputs": [],
   "source": []
  }
 ],
 "metadata": {
  "kernelspec": {
   "display_name": "Python 3",
   "language": "python",
   "name": "python3"
  },
  "language_info": {
   "codemirror_mode": {
    "name": "ipython",
    "version": 3
   },
   "file_extension": ".py",
   "mimetype": "text/x-python",
   "name": "python",
   "nbconvert_exporter": "python",
   "pygments_lexer": "ipython3",
   "version": "3.6.3"
  }
 },
 "nbformat": 4,
 "nbformat_minor": 2
}
